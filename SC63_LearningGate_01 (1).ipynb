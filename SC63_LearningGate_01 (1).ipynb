{
  "nbformat": 4,
  "nbformat_minor": 0,
  "metadata": {
    "colab": {
      "name": "SC63_LearningGate_01.ipynb",
      "provenance": [],
      "collapsed_sections": []
    },
    "kernelspec": {
      "name": "python3",
      "display_name": "Python 3"
    },
    "language_info": {
      "name": "python"
    }
  },
  "cells": [
    {
      "cell_type": "markdown",
      "metadata": {
        "id": "3QHdEXEbc_dw"
      },
      "source": [
        "German Data:\n",
        "\n",
        "https://archive.ics.uci.edu/ml/datasets/statlog+(german+credit+data)  "
      ]
    },
    {
      "cell_type": "code",
      "metadata": {
        "id": "V3iEBb9fWhsi"
      },
      "source": [
        "import pandas as pd\n",
        "import numpy as np\n",
        "\n",
        "from sklearn.linear_model import LogisticRegression"
      ],
      "execution_count": null,
      "outputs": []
    },
    {
      "cell_type": "code",
      "metadata": {
        "id": "u8eeYEdyWsxA"
      },
      "source": [
        "from google.colab import drive\n",
        "drive.mount('/content/drive')\n"
      ],
      "execution_count": null,
      "outputs": []
    },
    {
      "cell_type": "code",
      "metadata": {
        "id": "iIa1Mp4VWtP3"
      },
      "source": [
        "germandata = pd.read_csv(\"/content/drive/MyDrive/data/german_credit_SC63.csv\")"
      ],
      "execution_count": null,
      "outputs": []
    },
    {
      "cell_type": "code",
      "metadata": {
        "id": "1Ip-TRKlYHGP"
      },
      "source": [
        "#germandata = pd.read_csv(\"german_credit_SC63.csv\")"
      ],
      "execution_count": null,
      "outputs": []
    },
    {
      "cell_type": "code",
      "metadata": {
        "colab": {
          "base_uri": "https://localhost:8080/",
          "height": 193
        },
        "id": "7bRdQnW5XI_P",
        "outputId": "04ee62a2-9fd5-46fc-ef87-5d60bf1ef154"
      },
      "source": [
        "germandata.head(4)"
      ],
      "execution_count": null,
      "outputs": [
        {
          "output_type": "execute_result",
          "data": {
            "text/html": [
              "<div>\n",
              "<style scoped>\n",
              "    .dataframe tbody tr th:only-of-type {\n",
              "        vertical-align: middle;\n",
              "    }\n",
              "\n",
              "    .dataframe tbody tr th {\n",
              "        vertical-align: top;\n",
              "    }\n",
              "\n",
              "    .dataframe thead th {\n",
              "        text-align: right;\n",
              "    }\n",
              "</style>\n",
              "<table border=\"1\" class=\"dataframe\">\n",
              "  <thead>\n",
              "    <tr style=\"text-align: right;\">\n",
              "      <th></th>\n",
              "      <th>AsignarCredito</th>\n",
              "      <th>duracion</th>\n",
              "      <th>historial</th>\n",
              "      <th>proposito</th>\n",
              "      <th>monto</th>\n",
              "      <th>ahorros</th>\n",
              "      <th>edocivil</th>\n",
              "      <th>edad</th>\n",
              "      <th>otroscreditos</th>\n",
              "      <th>casa</th>\n",
              "      <th>otrosplanes</th>\n",
              "      <th>trabajo</th>\n",
              "      <th>carro</th>\n",
              "      <th>extranjero</th>\n",
              "    </tr>\n",
              "  </thead>\n",
              "  <tbody>\n",
              "    <tr>\n",
              "      <th>0</th>\n",
              "      <td>0</td>\n",
              "      <td>18</td>\n",
              "      <td>4</td>\n",
              "      <td>2</td>\n",
              "      <td>1049</td>\n",
              "      <td>1</td>\n",
              "      <td>2</td>\n",
              "      <td>21</td>\n",
              "      <td>3</td>\n",
              "      <td>1</td>\n",
              "      <td>1</td>\n",
              "      <td>3</td>\n",
              "      <td>1</td>\n",
              "      <td>1</td>\n",
              "    </tr>\n",
              "    <tr>\n",
              "      <th>1</th>\n",
              "      <td>0</td>\n",
              "      <td>9</td>\n",
              "      <td>4</td>\n",
              "      <td>0</td>\n",
              "      <td>2799</td>\n",
              "      <td>1</td>\n",
              "      <td>3</td>\n",
              "      <td>36</td>\n",
              "      <td>3</td>\n",
              "      <td>1</td>\n",
              "      <td>2</td>\n",
              "      <td>3</td>\n",
              "      <td>1</td>\n",
              "      <td>1</td>\n",
              "    </tr>\n",
              "    <tr>\n",
              "      <th>2</th>\n",
              "      <td>0</td>\n",
              "      <td>12</td>\n",
              "      <td>2</td>\n",
              "      <td>9</td>\n",
              "      <td>841</td>\n",
              "      <td>2</td>\n",
              "      <td>2</td>\n",
              "      <td>23</td>\n",
              "      <td>3</td>\n",
              "      <td>1</td>\n",
              "      <td>1</td>\n",
              "      <td>2</td>\n",
              "      <td>1</td>\n",
              "      <td>1</td>\n",
              "    </tr>\n",
              "    <tr>\n",
              "      <th>3</th>\n",
              "      <td>0</td>\n",
              "      <td>12</td>\n",
              "      <td>4</td>\n",
              "      <td>0</td>\n",
              "      <td>2122</td>\n",
              "      <td>1</td>\n",
              "      <td>3</td>\n",
              "      <td>39</td>\n",
              "      <td>3</td>\n",
              "      <td>1</td>\n",
              "      <td>2</td>\n",
              "      <td>2</td>\n",
              "      <td>1</td>\n",
              "      <td>2</td>\n",
              "    </tr>\n",
              "  </tbody>\n",
              "</table>\n",
              "</div>"
            ],
            "text/plain": [
              "   AsignarCredito  duracion  historial  ...  trabajo  carro  extranjero\n",
              "0               0        18          4  ...        3      1           1\n",
              "1               0         9          4  ...        3      1           1\n",
              "2               0        12          2  ...        2      1           1\n",
              "3               0        12          4  ...        2      1           2\n",
              "\n",
              "[4 rows x 14 columns]"
            ]
          },
          "metadata": {
            "tags": []
          },
          "execution_count": 4
        }
      ]
    },
    {
      "cell_type": "code",
      "metadata": {
        "colab": {
          "base_uri": "https://localhost:8080/"
        },
        "id": "HJ4wNyWGYCoP",
        "outputId": "5d9bd007-b605-42d2-edd3-7df64a7d7934"
      },
      "source": [
        "germandata.info()"
      ],
      "execution_count": null,
      "outputs": [
        {
          "output_type": "stream",
          "text": [
            "<class 'pandas.core.frame.DataFrame'>\n",
            "RangeIndex: 1000 entries, 0 to 999\n",
            "Data columns (total 14 columns):\n",
            " #   Column          Non-Null Count  Dtype\n",
            "---  ------          --------------  -----\n",
            " 0   AsignarCredito  1000 non-null   int64\n",
            " 1   duracion        1000 non-null   int64\n",
            " 2   historial       1000 non-null   int64\n",
            " 3   proposito       1000 non-null   int64\n",
            " 4   monto           1000 non-null   int64\n",
            " 5   ahorros         1000 non-null   int64\n",
            " 6   edocivil        1000 non-null   int64\n",
            " 7   edad            1000 non-null   int64\n",
            " 8   otroscreditos   1000 non-null   int64\n",
            " 9   casa            1000 non-null   int64\n",
            " 10  otrosplanes     1000 non-null   int64\n",
            " 11  trabajo         1000 non-null   int64\n",
            " 12  carro           1000 non-null   int64\n",
            " 13  extranjero      1000 non-null   int64\n",
            "dtypes: int64(14)\n",
            "memory usage: 109.5 KB\n"
          ],
          "name": "stdout"
        }
      ]
    },
    {
      "cell_type": "code",
      "metadata": {
        "colab": {
          "base_uri": "https://localhost:8080/",
          "height": 317
        },
        "id": "b0PWThaAYCkf",
        "outputId": "be73d855-6275-470b-e9ed-7728541013dc"
      },
      "source": [
        "germandata.describe(include='all')"
      ],
      "execution_count": null,
      "outputs": [
        {
          "output_type": "execute_result",
          "data": {
            "text/html": [
              "<div>\n",
              "<style scoped>\n",
              "    .dataframe tbody tr th:only-of-type {\n",
              "        vertical-align: middle;\n",
              "    }\n",
              "\n",
              "    .dataframe tbody tr th {\n",
              "        vertical-align: top;\n",
              "    }\n",
              "\n",
              "    .dataframe thead th {\n",
              "        text-align: right;\n",
              "    }\n",
              "</style>\n",
              "<table border=\"1\" class=\"dataframe\">\n",
              "  <thead>\n",
              "    <tr style=\"text-align: right;\">\n",
              "      <th></th>\n",
              "      <th>AsignarCredito</th>\n",
              "      <th>duracion</th>\n",
              "      <th>historial</th>\n",
              "      <th>proposito</th>\n",
              "      <th>monto</th>\n",
              "      <th>ahorros</th>\n",
              "      <th>edocivil</th>\n",
              "      <th>edad</th>\n",
              "      <th>otroscreditos</th>\n",
              "      <th>casa</th>\n",
              "      <th>otrosplanes</th>\n",
              "      <th>trabajo</th>\n",
              "      <th>carro</th>\n",
              "      <th>extranjero</th>\n",
              "    </tr>\n",
              "  </thead>\n",
              "  <tbody>\n",
              "    <tr>\n",
              "      <th>count</th>\n",
              "      <td>1000.000000</td>\n",
              "      <td>1000.000000</td>\n",
              "      <td>1000.00000</td>\n",
              "      <td>1000.000000</td>\n",
              "      <td>1000.00000</td>\n",
              "      <td>1000.000000</td>\n",
              "      <td>1000.00000</td>\n",
              "      <td>1000.00000</td>\n",
              "      <td>1000.000000</td>\n",
              "      <td>1000.000000</td>\n",
              "      <td>1000.000000</td>\n",
              "      <td>1000.000000</td>\n",
              "      <td>1000.000000</td>\n",
              "      <td>1000.000000</td>\n",
              "    </tr>\n",
              "    <tr>\n",
              "      <th>mean</th>\n",
              "      <td>0.300000</td>\n",
              "      <td>20.903000</td>\n",
              "      <td>2.54500</td>\n",
              "      <td>2.828000</td>\n",
              "      <td>3271.24800</td>\n",
              "      <td>2.105000</td>\n",
              "      <td>2.68200</td>\n",
              "      <td>35.54200</td>\n",
              "      <td>2.675000</td>\n",
              "      <td>1.928000</td>\n",
              "      <td>1.407000</td>\n",
              "      <td>2.904000</td>\n",
              "      <td>1.404000</td>\n",
              "      <td>1.037000</td>\n",
              "    </tr>\n",
              "    <tr>\n",
              "      <th>std</th>\n",
              "      <td>0.458487</td>\n",
              "      <td>12.058814</td>\n",
              "      <td>1.08312</td>\n",
              "      <td>2.744439</td>\n",
              "      <td>2822.75176</td>\n",
              "      <td>1.580023</td>\n",
              "      <td>0.70808</td>\n",
              "      <td>11.35267</td>\n",
              "      <td>0.705601</td>\n",
              "      <td>0.530186</td>\n",
              "      <td>0.577654</td>\n",
              "      <td>0.653614</td>\n",
              "      <td>0.490943</td>\n",
              "      <td>0.188856</td>\n",
              "    </tr>\n",
              "    <tr>\n",
              "      <th>min</th>\n",
              "      <td>0.000000</td>\n",
              "      <td>4.000000</td>\n",
              "      <td>0.00000</td>\n",
              "      <td>0.000000</td>\n",
              "      <td>250.00000</td>\n",
              "      <td>1.000000</td>\n",
              "      <td>1.00000</td>\n",
              "      <td>19.00000</td>\n",
              "      <td>1.000000</td>\n",
              "      <td>1.000000</td>\n",
              "      <td>1.000000</td>\n",
              "      <td>1.000000</td>\n",
              "      <td>1.000000</td>\n",
              "      <td>1.000000</td>\n",
              "    </tr>\n",
              "    <tr>\n",
              "      <th>25%</th>\n",
              "      <td>0.000000</td>\n",
              "      <td>12.000000</td>\n",
              "      <td>2.00000</td>\n",
              "      <td>1.000000</td>\n",
              "      <td>1365.50000</td>\n",
              "      <td>1.000000</td>\n",
              "      <td>2.00000</td>\n",
              "      <td>27.00000</td>\n",
              "      <td>3.000000</td>\n",
              "      <td>2.000000</td>\n",
              "      <td>1.000000</td>\n",
              "      <td>3.000000</td>\n",
              "      <td>1.000000</td>\n",
              "      <td>1.000000</td>\n",
              "    </tr>\n",
              "    <tr>\n",
              "      <th>50%</th>\n",
              "      <td>0.000000</td>\n",
              "      <td>18.000000</td>\n",
              "      <td>2.00000</td>\n",
              "      <td>2.000000</td>\n",
              "      <td>2319.50000</td>\n",
              "      <td>1.000000</td>\n",
              "      <td>3.00000</td>\n",
              "      <td>33.00000</td>\n",
              "      <td>3.000000</td>\n",
              "      <td>2.000000</td>\n",
              "      <td>1.000000</td>\n",
              "      <td>3.000000</td>\n",
              "      <td>1.000000</td>\n",
              "      <td>1.000000</td>\n",
              "    </tr>\n",
              "    <tr>\n",
              "      <th>75%</th>\n",
              "      <td>1.000000</td>\n",
              "      <td>24.000000</td>\n",
              "      <td>4.00000</td>\n",
              "      <td>3.000000</td>\n",
              "      <td>3972.25000</td>\n",
              "      <td>3.000000</td>\n",
              "      <td>3.00000</td>\n",
              "      <td>42.00000</td>\n",
              "      <td>3.000000</td>\n",
              "      <td>2.000000</td>\n",
              "      <td>2.000000</td>\n",
              "      <td>3.000000</td>\n",
              "      <td>2.000000</td>\n",
              "      <td>1.000000</td>\n",
              "    </tr>\n",
              "    <tr>\n",
              "      <th>max</th>\n",
              "      <td>1.000000</td>\n",
              "      <td>72.000000</td>\n",
              "      <td>4.00000</td>\n",
              "      <td>10.000000</td>\n",
              "      <td>18424.00000</td>\n",
              "      <td>5.000000</td>\n",
              "      <td>4.00000</td>\n",
              "      <td>75.00000</td>\n",
              "      <td>3.000000</td>\n",
              "      <td>3.000000</td>\n",
              "      <td>4.000000</td>\n",
              "      <td>4.000000</td>\n",
              "      <td>2.000000</td>\n",
              "      <td>2.000000</td>\n",
              "    </tr>\n",
              "  </tbody>\n",
              "</table>\n",
              "</div>"
            ],
            "text/plain": [
              "       AsignarCredito     duracion  ...        carro   extranjero\n",
              "count     1000.000000  1000.000000  ...  1000.000000  1000.000000\n",
              "mean         0.300000    20.903000  ...     1.404000     1.037000\n",
              "std          0.458487    12.058814  ...     0.490943     0.188856\n",
              "min          0.000000     4.000000  ...     1.000000     1.000000\n",
              "25%          0.000000    12.000000  ...     1.000000     1.000000\n",
              "50%          0.000000    18.000000  ...     1.000000     1.000000\n",
              "75%          1.000000    24.000000  ...     2.000000     1.000000\n",
              "max          1.000000    72.000000  ...     2.000000     2.000000\n",
              "\n",
              "[8 rows x 14 columns]"
            ]
          },
          "metadata": {
            "tags": []
          },
          "execution_count": 6
        }
      ]
    },
    {
      "cell_type": "code",
      "metadata": {
        "colab": {
          "base_uri": "https://localhost:8080/"
        },
        "id": "ycji1p3YsO8h",
        "outputId": "9db41c11-08af-40f9-ec39-1c95f0c8f994"
      },
      "source": [
        "sum(germandata['AsignarCredito'])"
      ],
      "execution_count": null,
      "outputs": [
        {
          "output_type": "execute_result",
          "data": {
            "text/plain": [
              "300"
            ]
          },
          "metadata": {
            "tags": []
          },
          "execution_count": 7
        }
      ]
    },
    {
      "cell_type": "code",
      "metadata": {
        "id": "QV9puV2w8w2v"
      },
      "source": [
        "X = germandata[['duracion','historial','proposito','monto','ahorros','edocivil','edad',\n",
        "                'otroscreditos','casa','otrosplanes','trabajo','carro','extranjero']]\n",
        "Y = germandata['AsignarCredito']\n",
        "\n",
        "X = X.values\n",
        "Y = Y.values"
      ],
      "execution_count": null,
      "outputs": []
    },
    {
      "cell_type": "code",
      "metadata": {
        "id": "nYIUReiV86pv"
      },
      "source": [
        "#from sklearn.model_selection import train_test_split\n",
        "\n",
        "#x_train, x_validation_and_test, y_train, y_validation_and_test = train_test_split(X, Y, train_size=.70) \n",
        "#x_validation, x_test, y_validation, y_test = train_test_split(x_validation_and_test, y_validation_and_test, test_size=.50)"
      ],
      "execution_count": null,
      "outputs": []
    },
    {
      "cell_type": "code",
      "metadata": {
        "id": "SEs9NVJ6tyhJ"
      },
      "source": [
        "from sklearn.model_selection import train_test_split\n",
        "\n",
        "x_train_validation, x_test, y_train_validation, y_test = \\\n",
        "    train_test_split(X, Y, test_size=.15) "
      ],
      "execution_count": null,
      "outputs": []
    },
    {
      "cell_type": "code",
      "metadata": {
        "id": "dMjAloqswXhZ"
      },
      "source": [
        "x_train, x_validation, y_train, y_validation = \\\n",
        "   train_test_split(x_train_validation, y_train_validation, test_size=.176)"
      ],
      "execution_count": null,
      "outputs": []
    },
    {
      "cell_type": "code",
      "metadata": {
        "colab": {
          "base_uri": "https://localhost:8080/"
        },
        "id": "7Y6E6b6GUVh2",
        "outputId": "fdc94662-d853-4664-bb1f-be24a3e3d941"
      },
      "source": [
        "print(\"Dimensión X_train_set:\\t\\t\", x_train.shape)\n",
        "print(\"Dimensión X_validation_set:\\t\", x_validation.shape)\n",
        "print(\"Dimension X_test_set:\\t\\t\", x_test.shape)\n",
        "\n",
        "print(\"\\nDimensión Y_train:\\t\\t\", y_train.shape)\n",
        "print(\"Dimensión Y_validation:\\t\\t\", y_validation.shape)\n",
        "print(\"Dimensión Y_test:\\t\\t\", y_test.shape)"
      ],
      "execution_count": null,
      "outputs": [
        {
          "output_type": "stream",
          "text": [
            "Dimensión X_train_set:\t\t (700, 13)\n",
            "Dimensión X_validation_set:\t (150, 13)\n",
            "Dimension X_test_set:\t\t (150, 13)\n",
            "\n",
            "Dimensión Y_train:\t\t (700,)\n",
            "Dimensión Y_validation:\t\t (150,)\n",
            "Dimensión Y_test:\t\t (150,)\n"
          ],
          "name": "stdout"
        }
      ]
    },
    {
      "cell_type": "code",
      "metadata": {
        "id": "qwclrDwK7TW1"
      },
      "source": [
        "clf = LogisticRegression( C=1.0, solver='newton-cg', max_iter=1000 )   \n",
        " \n",
        "modelo_RL = clf.fit( x_train, y_train )"
      ],
      "execution_count": null,
      "outputs": []
    },
    {
      "cell_type": "code",
      "metadata": {
        "colab": {
          "base_uri": "https://localhost:8080/"
        },
        "id": "fAyliXO27YWj",
        "outputId": "083943d3-6802-4ef1-f32d-b96b0aadb7d4"
      },
      "source": [
        "print(\"Exactitud (accuracy) con el conjunto de Validación = \", \\\n",
        "      modelo_RL.score(x_validation, y_validation))"
      ],
      "execution_count": null,
      "outputs": [
        {
          "output_type": "stream",
          "text": [
            "Exactitud (accuracy) con el conjunto de Validación =  0.7866666666666666\n"
          ],
          "name": "stdout"
        }
      ]
    },
    {
      "cell_type": "markdown",
      "metadata": {
        "id": "Z4QU4nmNkff3"
      },
      "source": [
        "Repitamos el proceso 10 veces y registremos el promedio y desviación estándar de la exactitud de estos modelos:"
      ]
    },
    {
      "cell_type": "code",
      "metadata": {
        "colab": {
          "base_uri": "https://localhost:8080/"
        },
        "id": "Mq7btW6Gk50n",
        "outputId": "5689341c-4e4b-4c27-f07a-09c92bb49836"
      },
      "source": [
        "exactitud = []\n",
        "\n",
        "for k in range(0,10):\n",
        "  x_train, x_validation, y_train, y_validation = \\\n",
        "   train_test_split(x_train_validation, y_train_validation, test_size=.176)\n",
        "\n",
        "  clf = LogisticRegression( C=1.0, solver='newton-cg', max_iter=500 )   \n",
        "  modelo_RL = clf.fit( x_train, y_train )\n",
        "\n",
        "  # veamos cómo se comportan ahora en el conjunto de validación:\n",
        "  exactitud.append(modelo_RL.score(x_validation, y_validation))\n",
        "\n",
        "\n",
        "\n",
        "print(\"Exactitud (Accuracy) promedio:\", np.mean(exactitud))\n",
        "print(\"y desviación estándar:\", np.std(exactitud)  )"
      ],
      "execution_count": null,
      "outputs": [
        {
          "output_type": "stream",
          "text": [
            "Exactitud (Accuracy) promedio: 0.7433333333333334\n",
            "y desviación estándar: 0.013080944580232406\n"
          ],
          "name": "stdout"
        }
      ]
    }
  ]
}